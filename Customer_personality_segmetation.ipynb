{
  "nbformat": 4,
  "nbformat_minor": 0,
  "metadata": {
    "colab": {
      "name": "Customer_personality_segmetation.ipynb",
      "provenance": [],
      "mount_file_id": "11_36BxWjAKt_xR-qDdQT_338MBSjzoH6",
      "authorship_tag": "ABX9TyObYZEJVl4WI8ytD0cw3xAB",
      "include_colab_link": true
    },
    "kernelspec": {
      "name": "python3",
      "display_name": "Python 3"
    },
    "language_info": {
      "name": "python"
    }
  },
  "cells": [
    {
      "cell_type": "markdown",
      "metadata": {
        "id": "view-in-github",
        "colab_type": "text"
      },
      "source": [
        "<a href=\"https://colab.research.google.com/github/riyasharma2617/Personality-Segmentation/blob/main/Customer_personality_segmetation.ipynb\" target=\"_parent\"><img src=\"https://colab.research.google.com/assets/colab-badge.svg\" alt=\"Open In Colab\"/></a>"
      ]
    },
    {
      "cell_type": "code",
      "execution_count": null,
      "metadata": {
        "id": "TyAcubejlj7u"
      },
      "outputs": [],
      "source": [
        "# This Python 3 environment comes with many helpful analytics libraries installed\n",
        "# It is defined by the kaggle/python Docker image: https://github.com/kaggle/docker-python\n",
        "# For example, here's several helpful packages to load\n",
        "\n",
        "import numpy as np # linear algebra\n",
        "import pandas as pd # data processing, CSV file I/O (e.g. pd.read_csv)\n",
        "\n",
        "# Input data files are available in the read-only \"../input/\" directory\n",
        "# For example, running this (by clicking run or pressing Shift+Enter) will list all files under the input directory\n",
        "\n",
        "import os\n",
        "for dirname, _, filenames in os.walk('/kaggle/input'):\n",
        "    for filename in filenames:\n",
        "        print(os.path.join(dirname, filename))\n",
        "\n",
        "# You can write up to 20GB to the current directory (/kaggle/working/) that gets preserved as output when you create a version using \"Save & Run All\" \n",
        "# You can also write temporary files to /kaggle/temp/, but they won't be saved outside of the current session"
      ]
    },
    {
      "cell_type": "markdown",
      "source": [
        "#**Customer Segmentation**\n",
        "   Customer Personality Analysis\n",
        "#Table of Content\n",
        "\n",
        "---\n",
        "\n",
        "\n",
        "1. What is Customer Segmentation\n",
        "2. Importing Libraries\n",
        "3. Loading the Dataset\n",
        "4. Data Cleaning\n",
        "5. Creating Some New Data Columns\n",
        "6. Data Preprocessing\n",
        "7. Dimensionality Reduction\n",
        "8. Clustering\n",
        "9. Evaluating Models\n",
        "10. Profiling\n",
        "11. About Clusters\n",
        "12. Conclusion\n",
        "13. References\n",
        "\n",
        "#What is Customer Segmentation?\n",
        "\n",
        "---\n",
        "\n",
        "\n",
        "Customer segmentation is the practice of dividing a company’s customers into groups that reflect similarity among customers in each group. The goal of segmenting customers is to decide how to relate to customers in each segment in order to maximize the value of each customer to the business."
      ],
      "metadata": {
        "id": "7E17BSSjl4Kj"
      }
    },
    {
      "cell_type": "markdown",
      "source": [
        "# Importing Libraries\n",
        "\n",
        "---\n",
        "\n"
      ],
      "metadata": {
        "id": "tvhkMBLxmY6o"
      }
    },
    {
      "cell_type": "code",
      "source": [
        "#Importing the Libraries\n",
        "import numpy as np\n",
        "import pandas as pd\n",
        "import datetime\n",
        "import matplotlib\n",
        "import matplotlib.pyplot as plt\n",
        "from matplotlib import colors\n",
        "import seaborn as sns\n",
        "from sklearn.preprocessing import LabelEncoder\n",
        "from sklearn.preprocessing import StandardScaler\n",
        "from sklearn.decomposition import PCA\n",
        "from yellowbrick.cluster import KElbowVisualizer\n",
        "from sklearn.cluster import KMeans\n",
        "import matplotlib.pyplot as plt, numpy as np\n",
        "from mpl_toolkits.mplot3d import Axes3D\n",
        "from sklearn.cluster import AgglomerativeClustering\n",
        "from matplotlib.colors import ListedColormap\n",
        "from sklearn import metrics\n",
        "import warnings\n",
        "import sys\n",
        "if not sys.warnoptions:\n",
        "    warnings.simplefilter(\"ignore\")\n",
        "np.random.seed(42)"
      ],
      "metadata": {
        "id": "_-OEc6w6mysC"
      },
      "execution_count": null,
      "outputs": []
    },
    {
      "cell_type": "markdown",
      "source": [
        "#Loading the dataset\n",
        "\n",
        "---\n",
        "\n"
      ],
      "metadata": {
        "id": "7Es7qpE5m45a"
      }
    },
    {
      "cell_type": "code",
      "source": [
        "#Loading the dataset\n",
        "data = pd.read_csv(\"../input/customer-personality-analysis/marketing_campaign.csv\", sep=\"\\t\")\n",
        "print(\"Number of datapoints:\", len(data))\n",
        "data.head()"
      ],
      "metadata": {
        "id": "rWOWfRrinKDS"
      },
      "execution_count": null,
      "outputs": []
    },
    {
      "cell_type": "markdown",
      "source": [
        "#Data Cleaning\n",
        "\n",
        "---\n",
        "\n",
        "\n",
        "\n",
        "#In this section\n",
        "\n",
        "1. Data Cleaning\n",
        "\n",
        "2. Feature Engineering\n",
        "\n",
        "In order to, get a full grasp of what steps should I be taking to clean the dataset. Let us have a look at the information in data."
      ],
      "metadata": {
        "id": "8wVWLJBdnXqx"
      }
    },
    {
      "cell_type": "code",
      "source": [
        "#Information on features \n",
        "data.info()"
      ],
      "metadata": {
        "id": "RFnw-vaLnmEo"
      },
      "execution_count": null,
      "outputs": []
    },
    {
      "cell_type": "markdown",
      "source": [
        "**From the above output, we can conclude and note that:**\n",
        "\n",
        "1. There are missing values in income\n",
        "2. Dt_Customer that indicates the date a customer joined the database is not parsed as DateTime\n",
        "3. There are some categorical features in our data frame; as there are some features in dtype: object). So we will need to encode them into numeric forms later.\n",
        "\n",
        "First of all, for the missing values, I am simply going to drop the rows that have missing income values."
      ],
      "metadata": {
        "id": "Aa720MwjoQnL"
      }
    },
    {
      "cell_type": "code",
      "source": [
        "#To remove the NA values\n",
        "data = data.dropna()\n",
        "print(\"The total number of data-points after removing the rows with missing values are:\", len(data))"
      ],
      "metadata": {
        "id": "yMF1qRIVojsg"
      },
      "execution_count": null,
      "outputs": []
    },
    {
      "cell_type": "markdown",
      "source": [
        "In the next step, I am going to create a feature out of \"Dt_Customer\" that indicates the number of days a customer is registered in the firm's database. However, in order to keep it simple, I am taking this value relative to the most recent customer in the record.\n",
        "\n",
        "Thus to get the values I must check the newest and oldest recorded dates."
      ],
      "metadata": {
        "id": "4InS9Mesor5Z"
      }
    },
    {
      "cell_type": "code",
      "source": [
        "data[\"Dt_Customer\"] = pd.to_datetime(data[\"Dt_Customer\"])\n",
        "dates = []\n",
        "for i in data[\"Dt_Customer\"]:\n",
        "    i = i.date()\n",
        "    dates.append(i)  \n",
        "#Dates of the newest and oldest recorded customer\n",
        "print(\"The newest customer's enrolment date in therecords:\",max(dates))\n",
        "print(\"The oldest customer's enrolment date in the records:\",min(dates))"
      ],
      "metadata": {
        "colab": {
          "base_uri": "https://localhost:8080/",
          "height": 235
        },
        "id": "_yRbI2Q4oulH",
        "outputId": "8e802636-d743-4b41-c6de-b485cf6c404b"
      },
      "execution_count": 1,
      "outputs": [
        {
          "output_type": "error",
          "ename": "NameError",
          "evalue": "ignored",
          "traceback": [
            "\u001b[0;31m---------------------------------------------------------------------------\u001b[0m",
            "\u001b[0;31mNameError\u001b[0m                                 Traceback (most recent call last)",
            "\u001b[0;32m<ipython-input-1-e8c61107916e>\u001b[0m in \u001b[0;36m<module>\u001b[0;34m()\u001b[0m\n\u001b[0;32m----> 1\u001b[0;31m \u001b[0mdata\u001b[0m\u001b[0;34m[\u001b[0m\u001b[0;34m\"Dt_Customer\"\u001b[0m\u001b[0;34m]\u001b[0m \u001b[0;34m=\u001b[0m \u001b[0mpd\u001b[0m\u001b[0;34m.\u001b[0m\u001b[0mto_datetime\u001b[0m\u001b[0;34m(\u001b[0m\u001b[0mdata\u001b[0m\u001b[0;34m[\u001b[0m\u001b[0;34m\"Dt_Customer\"\u001b[0m\u001b[0;34m]\u001b[0m\u001b[0;34m)\u001b[0m\u001b[0;34m\u001b[0m\u001b[0;34m\u001b[0m\u001b[0m\n\u001b[0m\u001b[1;32m      2\u001b[0m \u001b[0mdates\u001b[0m \u001b[0;34m=\u001b[0m \u001b[0;34m[\u001b[0m\u001b[0;34m]\u001b[0m\u001b[0;34m\u001b[0m\u001b[0;34m\u001b[0m\u001b[0m\n\u001b[1;32m      3\u001b[0m \u001b[0;32mfor\u001b[0m \u001b[0mi\u001b[0m \u001b[0;32min\u001b[0m \u001b[0mdata\u001b[0m\u001b[0;34m[\u001b[0m\u001b[0;34m\"Dt_Customer\"\u001b[0m\u001b[0;34m]\u001b[0m\u001b[0;34m:\u001b[0m\u001b[0;34m\u001b[0m\u001b[0;34m\u001b[0m\u001b[0m\n\u001b[1;32m      4\u001b[0m     \u001b[0mi\u001b[0m \u001b[0;34m=\u001b[0m \u001b[0mi\u001b[0m\u001b[0;34m.\u001b[0m\u001b[0mdate\u001b[0m\u001b[0;34m(\u001b[0m\u001b[0;34m)\u001b[0m\u001b[0;34m\u001b[0m\u001b[0;34m\u001b[0m\u001b[0m\n\u001b[1;32m      5\u001b[0m     \u001b[0mdates\u001b[0m\u001b[0;34m.\u001b[0m\u001b[0mappend\u001b[0m\u001b[0;34m(\u001b[0m\u001b[0mi\u001b[0m\u001b[0;34m)\u001b[0m\u001b[0;34m\u001b[0m\u001b[0;34m\u001b[0m\u001b[0m\n",
            "\u001b[0;31mNameError\u001b[0m: name 'pd' is not defined"
          ]
        }
      ]
    },
    {
      "cell_type": "markdown",
      "source": [
        "Creating a feature (\"Customer_For\") of the number of days the customers started to shop in the store relative to the last recorded date"
      ],
      "metadata": {
        "id": "c_q47-JOpfln"
      }
    },
    {
      "cell_type": "code",
      "source": [
        "#Created a feature \"Customer_For\"\n",
        "days = []\n",
        "d1 = max(dates) #taking it to be the newest customer\n",
        "for i in dates:\n",
        "    delta = d1 - i\n",
        "    days.append(delta)\n",
        "data[\"Customer_For\"] = days\n",
        "data[\"Customer_For\"] = pd.to_numeric(data[\"Customer_For\"], errors=\"coerce\")"
      ],
      "metadata": {
        "id": "qw1XXsTGpjmn"
      },
      "execution_count": null,
      "outputs": []
    },
    {
      "cell_type": "markdown",
      "source": [
        "Now we will be exploring the unique values in the categorical features to get a clear idea of the data."
      ],
      "metadata": {
        "id": "eM45mhIYpuN-"
      }
    },
    {
      "cell_type": "code",
      "source": [
        "print(\"Total categories in the feature Marital_Status:\\n\", data[\"Marital_Status\"].value_counts(), \"\\n\")\n",
        "print(\"Total categories in the feature Education:\\n\", data[\"Education\"].value_counts())"
      ],
      "metadata": {
        "id": "bG0QxB3Dp15H"
      },
      "execution_count": null,
      "outputs": []
    },
    {
      "cell_type": "markdown",
      "source": [
        "**In the next bit, I will be performing the following steps to engineer some new features:**\n",
        "\n",
        "1. Extract the \"Age\" of a customer by the \"Year_Birth\" indicating the birth year of the respective person.\n",
        "2. Create another feature \"Spent\" indicating the total amount spent by the customer in various categories over the span of two years.\n",
        "3. Create another feature \"Living_With\" out of \"Marital_Status\" to extract the living situation of couples.\n",
        "4. Create a feature \"Children\" to indicate total children in a household that is, kids and teenagers.\n",
        "5. To get further clarity of household, Creating feature indicating \"Family_Size\"\n",
        "6. Create a feature \"Is_Parent\" to indicate parenthood status\n",
        "7. Lastly, I will create three categories in the \"Education\" by simplifying its value counts.\n",
        "8. Dropping some of the redundant features"
      ],
      "metadata": {
        "id": "fTfe7vPvp6oR"
      }
    },
    {
      "cell_type": "code",
      "source": [
        "#Feature Engineering\n",
        "#Age of customer today \n",
        "data[\"Age\"] = 2021-data[\"Year_Birth\"]\n",
        "\n",
        "#Total spendings on various items\n",
        "data[\"Spent\"] = data[\"MntWines\"]+ data[\"MntFruits\"]+ data[\"MntMeatProducts\"]+ data[\"MntFishProducts\"]+ data[\"MntSweetProducts\"]+ data[\"MntGoldProds\"]\n",
        "\n",
        "#Deriving living situation by marital status\"Alone\"\n",
        "data[\"Living_With\"]=data[\"Marital_Status\"].replace({\"Married\":\"Partner\", \"Together\":\"Partner\", \"Absurd\":\"Alone\", \"Widow\":\"Alone\", \"YOLO\":\"Alone\", \"Divorced\":\"Alone\", \"Single\":\"Alone\",})\n",
        "\n",
        "#Feature indicating total children living in the household\n",
        "data[\"Children\"]=data[\"Kidhome\"]+data[\"Teenhome\"]\n",
        "\n",
        "#Feature for total members in the householde\n",
        "data[\"Family_Size\"] = data[\"Living_With\"].replace({\"Alone\": 1, \"Partner\":2})+ data[\"Children\"]\n",
        "\n",
        "#Feature pertaining parenthood\n",
        "data[\"Is_Parent\"] = np.where(data.Children> 0, 1, 0)\n",
        "\n",
        "#Segmenting education levels in three groups\n",
        "data[\"Education\"]=data[\"Education\"].replace({\"Basic\":\"Undergraduate\",\"2n Cycle\":\"Undergraduate\", \"Graduation\":\"Graduate\", \"Master\":\"Postgraduate\", \"PhD\":\"Postgraduate\"})\n",
        "\n",
        "#For clarity\n",
        "data=data.rename(columns={\"MntWines\": \"Wines\",\"MntFruits\":\"Fruits\",\"MntMeatProducts\":\"Meat\",\"MntFishProducts\":\"Fish\",\"MntSweetProducts\":\"Sweets\",\"MntGoldProds\":\"Gold\"})\n",
        "\n",
        "#Dropping some of the redundant features\n",
        "to_drop = [\"Marital_Status\", \"Dt_Customer\", \"Z_CostContact\", \"Z_Revenue\", \"Year_Birth\", \"ID\"]\n",
        "data = data.drop(to_drop, axis=1)"
      ],
      "metadata": {
        "id": "UmHmgI_4qWAv"
      },
      "execution_count": null,
      "outputs": []
    },
    {
      "cell_type": "markdown",
      "source": [
        "Now that we have some new features let's have a look at the data's stats"
      ],
      "metadata": {
        "id": "OjyIjqefqofb"
      }
    },
    {
      "cell_type": "code",
      "source": [
        "data.describe()"
      ],
      "metadata": {
        "id": "2QIUJizxqtZW"
      },
      "execution_count": null,
      "outputs": []
    },
    {
      "cell_type": "markdown",
      "source": [
        "The above stats show some discrepancies in mean Income and Age and max Income and age.\n",
        "\n",
        "Do note that max-age is 128 years, As I calculated the age that would be today (i.e. 2021) and the data is old.\n",
        "\n",
        "I must take a look at the broader view of the data. I will plot some of the selected features."
      ],
      "metadata": {
        "id": "kZMM7nBuqxbu"
      }
    },
    {
      "cell_type": "code",
      "source": [
        "#To plot some selected features \n",
        "#Setting up colors prefrences\n",
        "sns.set(rc={\"axes.facecolor\":\"#FFF9ED\",\"figure.facecolor\":\"#FFF9ED\"})\n",
        "pallet = [\"#682F2F\", \"#9E726F\", \"#D6B2B1\", \"#B9C0C9\", \"#9F8A78\", \"#F3AB60\"]\n",
        "cmap = colors.ListedColormap([\"#682F2F\", \"#9E726F\", \"#D6B2B1\", \"#B9C0C9\", \"#9F8A78\", \"#F3AB60\"])\n",
        "#Plotting following features\n",
        "To_Plot = [ \"Income\", \"Recency\", \"Customer_For\", \"Age\", \"Spent\", \"Is_Parent\"]\n",
        "print(\"Reletive Plot Of Some Selected Features: A Data Subset\")\n",
        "plt.figure()\n",
        "sns.pairplot(data[To_Plot], hue= \"Is_Parent\",palette= ([\"#682F2F\",\"#F3AB60\"]))\n",
        "#Taking hue \n",
        "plt.show()"
      ],
      "metadata": {
        "id": "SqVE6aMgq0Qd"
      },
      "execution_count": null,
      "outputs": []
    },
    {
      "cell_type": "markdown",
      "source": [
        "Clearly, there are a few outliers in the Income and Age features. I will be deleting the outliers in the data."
      ],
      "metadata": {
        "id": "YT1stjz-rCc1"
      }
    },
    {
      "cell_type": "code",
      "source": [
        "#Dropping the outliers by setting a cap on Age and income. \n",
        "data = data[(data[\"Age\"]<90)]\n",
        "data = data[(data[\"Income\"]<600000)]\n",
        "print(\"The total number of data-points after removing the outliers are:\", len(data))"
      ],
      "metadata": {
        "id": "4qZFoloErG6_"
      },
      "execution_count": null,
      "outputs": []
    },
    {
      "cell_type": "markdown",
      "source": [
        "Next, let us look at the correlation amongst the features. (Excluding the categorical attributes at this point)"
      ],
      "metadata": {
        "id": "x9x94YdsrJ24"
      }
    },
    {
      "cell_type": "code",
      "source": [
        "#correlation matrix\n",
        "corrmat= data.corr()\n",
        "plt.figure(figsize=(20,20))  \n",
        "sns.heatmap(corrmat,annot=True, cmap=cmap, center=0)"
      ],
      "metadata": {
        "id": "V9L98g9krMWj"
      },
      "execution_count": null,
      "outputs": []
    },
    {
      "cell_type": "markdown",
      "source": [
        "The data is quite clean and the new features have been included. I will proceed to the next step. That is, preprocessing the data."
      ],
      "metadata": {
        "id": "-OFY2imUrSa-"
      }
    },
    {
      "cell_type": "markdown",
      "source": [
        "# Data Processing\n",
        "\n",
        "---\n",
        "In this section, I will be preprocessing the data to perform clustering operations.\n",
        "\n",
        "**The following steps are applied to preprocess the data:**\n",
        "\n",
        "\n",
        "*  Label encoding the categorical features\n",
        "*  Scaling the features using the standard scaler\n",
        "*  Creating a subset dataframe for dimensionality reduction\n",
        "\n"
      ],
      "metadata": {
        "id": "9qvMuk1Fri2w"
      }
    },
    {
      "cell_type": "code",
      "source": [
        "#Get list of categorical variables\n",
        "s = (data.dtypes == 'object')\n",
        "object_cols = list(s[s].index)\n",
        "\n",
        "print(\"Categorical variables in the dataset:\", object_cols)"
      ],
      "metadata": {
        "id": "5fy889YZNdzG"
      },
      "execution_count": null,
      "outputs": []
    },
    {
      "cell_type": "code",
      "source": [
        "#Label Encoding the object dtypes.\n",
        "LE=LabelEncoder()\n",
        "for i in object_cols:\n",
        "    data[i]=data[[i]].apply(LE.fit_transform)\n",
        "    \n",
        "print(\"All features are now numerical\")"
      ],
      "metadata": {
        "id": "pxof8u2zNgaQ"
      },
      "execution_count": null,
      "outputs": []
    },
    {
      "cell_type": "code",
      "source": [
        "#Creating a copy of data\n",
        "ds = data.copy()\n",
        "# creating a subset of dataframe by dropping the features on deals accepted and promotions\n",
        "cols_del = ['AcceptedCmp3', 'AcceptedCmp4', 'AcceptedCmp5', 'AcceptedCmp1','AcceptedCmp2', 'Complain', 'Response']\n",
        "ds = ds.drop(cols_del, axis=1)\n",
        "#Scaling\n",
        "scaler = StandardScaler()\n",
        "scaler.fit(ds)\n",
        "scaled_ds = pd.DataFrame(scaler.transform(ds),columns= ds.columns )\n",
        "print(\"All features are now scaled\")"
      ],
      "metadata": {
        "id": "7Xb0ZqVHNjfo"
      },
      "execution_count": null,
      "outputs": []
    },
    {
      "cell_type": "code",
      "source": [
        "#Scaled data to be used for reducing the dimensionality\n",
        "print(\"Dataframe to be used for further modelling:\")\n",
        "scaled_ds.head()"
      ],
      "metadata": {
        "id": "tCzvm6HINmEO"
      },
      "execution_count": null,
      "outputs": []
    },
    {
      "cell_type": "markdown",
      "source": [
        "# Dimentionality Reduction\n",
        "\n",
        "\n",
        "\n",
        "---\n",
        "\n",
        "In this problem, there are many factors on the basis of which the final classification will be done. These factors are basically attributes or features. The higher the number of features, the harder it is to work with it. Many of these features are correlated, and hence redundant. This is why I will be performing dimensionality reduction on the selected features before putting them through a classifier.\n",
        "Dimensionality reduction is the process of reducing the number of random variables under consideration, by obtaining a set of principal variables.\n",
        "\n",
        "**Principal component analysis (PCA)**  is a technique for reducing the dimensionality of such datasets, increasing interpretability but at the same time minimizing information loss.\n",
        "\n",
        "**Steps in this section:**\n",
        "\n",
        "*   Dimensionality reduction with PCA\n",
        "*   Plotting the reduced dataframe\n",
        "\n",
        "**Dimensionality reduction with PCA**\n",
        "\n",
        "For this project, I will be reducing the dimensions to 3.\n",
        "\n",
        "\n"
      ],
      "metadata": {
        "id": "_NafFq7rN7P5"
      }
    },
    {
      "cell_type": "code",
      "source": [
        "#Initiating PCA to reduce dimentions aka features to 3\n",
        "pca = PCA(n_components=3)\n",
        "pca.fit(scaled_ds)\n",
        "PCA_ds = pd.DataFrame(pca.transform(scaled_ds), columns=([\"col1\",\"col2\", \"col3\"]))\n",
        "PCA_ds.describe().T"
      ],
      "metadata": {
        "id": "i5ztoPNUQjea"
      },
      "execution_count": null,
      "outputs": []
    },
    {
      "cell_type": "code",
      "source": [
        "#A 3D Projection Of Data In The Reduced Dimension\n",
        "x =PCA_ds[\"col1\"]\n",
        "y =PCA_ds[\"col2\"]\n",
        "z =PCA_ds[\"col3\"]\n",
        "#To plot\n",
        "fig = plt.figure(figsize=(10,8))\n",
        "ax = fig.add_subplot(111, projection=\"3d\")\n",
        "ax.scatter(x,y,z, c=\"maroon\", marker=\"o\" )\n",
        "ax.set_title(\"A 3D Projection Of Data In The Reduced Dimension\")\n",
        "plt.show()"
      ],
      "metadata": {
        "id": "VqGe8lN9Q_Id"
      },
      "execution_count": null,
      "outputs": []
    },
    {
      "cell_type": "markdown",
      "source": [
        "# Clustering\n",
        "\n",
        "\n",
        "---\n",
        "\n",
        "\n",
        "Now that I have reduced the attributes to three dimensions, I will be performing clustering via Agglomerative clustering. Agglomerative clustering is a hierarchical clustering method. It involves merging examples until the desired number of clusters is achieved.\n",
        "\n",
        "**Steps involved in the Clustering**\n",
        "\n",
        "*   Elbow Method to determine the number of clusters to be formed\n",
        "*  Clustering via Agglomerative Clustering\n",
        "\n",
        "*   Examining the clusters formed via scatter plot"
      ],
      "metadata": {
        "id": "QGu2tce7RDk8"
      }
    },
    {
      "cell_type": "code",
      "source": [
        "# Quick examination of elbow method to find numbers of clusters to make.\n",
        "print('Elbow Method to determine the number of clusters to be formed:')\n",
        "Elbow_M = KElbowVisualizer(KMeans(), k=10)\n",
        "Elbow_M.fit(PCA_ds)\n",
        "Elbow_M.show()"
      ],
      "metadata": {
        "id": "Rwk1iNGvRz2J"
      },
      "execution_count": null,
      "outputs": []
    },
    {
      "cell_type": "markdown",
      "source": [
        "The above cell indicates that four will be an optimal number of clusters for this data. Next, we will be fitting the Agglomerative Clustering Model to get the final clusters."
      ],
      "metadata": {
        "id": "0OKism9rR2ec"
      }
    },
    {
      "cell_type": "code",
      "source": [
        "#Initiating the Agglomerative Clustering model \n",
        "AC = AgglomerativeClustering(n_clusters=4)\n",
        "# fit model and predict clusters\n",
        "yhat_AC = AC.fit_predict(PCA_ds)\n",
        "PCA_ds[\"Clusters\"] = yhat_AC\n",
        "#Adding the Clusters feature to the orignal dataframe.\n",
        "data[\"Clusters\"]= yhat_AC"
      ],
      "metadata": {
        "id": "kESxJ0xrR5Ye"
      },
      "execution_count": null,
      "outputs": []
    },
    {
      "cell_type": "markdown",
      "source": [
        "To examine the clusters formed let's have a look at the 3-D distribution of the clusters."
      ],
      "metadata": {
        "id": "OxVbinEQR8Fm"
      }
    },
    {
      "cell_type": "code",
      "source": [
        "#Plotting the clusters\n",
        "fig = plt.figure(figsize=(10,8))\n",
        "ax = plt.subplot(111, projection='3d', label=\"bla\")\n",
        "ax.scatter(x, y, z, s=40, c=PCA_ds[\"Clusters\"], marker='o', cmap = cmap )\n",
        "ax.set_title(\"The Plot Of The Clusters\")\n",
        "plt.show()"
      ],
      "metadata": {
        "id": "Q2CwsJRGR_wl"
      },
      "execution_count": null,
      "outputs": []
    },
    {
      "cell_type": "markdown",
      "source": [
        "# Evaluating Models\n",
        "\n",
        "---\n",
        "Since this is an unsupervised clustering. We do not have a tagged feature to evaluate or score our model. The purpose of this section is to study the patterns in the clusters formed and determine the nature of the clusters' patterns.\n",
        "\n",
        "For that, we will be having a look at the data in light of clusters via exploratory data analysis and drawing conclusions.\n",
        "\n",
        "**Firstly, let us have a look at the group distribution of clustring**"
      ],
      "metadata": {
        "id": "iuOmMvFjSFGF"
      }
    },
    {
      "cell_type": "code",
      "source": [
        "#Plotting countplot of clusters\n",
        "pal = [\"#682F2F\",\"#B9C0C9\", \"#9F8A78\",\"#F3AB60\"]\n",
        "pl = sns.countplot(x=data[\"Clusters\"], palette= pal)\n",
        "pl.set_title(\"Distribution Of The Clusters\")\n",
        "plt.show()"
      ],
      "metadata": {
        "id": "0roqK7i1Seve"
      },
      "execution_count": null,
      "outputs": []
    },
    {
      "cell_type": "markdown",
      "source": [
        "The clusters seem to be fairly distributed."
      ],
      "metadata": {
        "id": "RNSYrcS_Sjvn"
      }
    },
    {
      "cell_type": "code",
      "source": [
        "pl = sns.scatterplot(data = data,x=data[\"Spent\"], y=data[\"Income\"],hue=data[\"Clusters\"], palette= pal)\n",
        "pl.set_title(\"Cluster's Profile Based On Income And Spending\")\n",
        "plt.legend()\n",
        "plt.show()"
      ],
      "metadata": {
        "id": "42sai-dySm4M"
      },
      "execution_count": null,
      "outputs": []
    },
    {
      "cell_type": "markdown",
      "source": [
        "**Income vs spending plot shows the clusters pattern**\n",
        "\n",
        "*   group 0: high spending & average income\n",
        "*   group 1: high spending & high income\n",
        "*   group 2: low spending & low income\n",
        "*   group 3: high spending & low income\n",
        "\n",
        "Next, I will be looking at the detailed distribution of clusters as per the various products in the data. Namely: Wines, Fruits, Meat, Fish, Sweets and Gold\n"
      ],
      "metadata": {
        "id": "8JESfISTSqjG"
      }
    },
    {
      "cell_type": "code",
      "source": [
        "plt.figure()\n",
        "pl=sns.swarmplot(x=data[\"Clusters\"], y=data[\"Spent\"], color= \"#CBEDDD\", alpha=0.5 )\n",
        "pl=sns.boxenplot(x=data[\"Clusters\"], y=data[\"Spent\"], palette=pal)\n",
        "plt.show()"
      ],
      "metadata": {
        "id": "Ml96NJb-U_3Q"
      },
      "execution_count": null,
      "outputs": []
    },
    {
      "cell_type": "markdown",
      "source": [
        "From the above plot, it can be clearly seen that cluster 1 is our biggest set of customers closely followed by cluster 0. We can explore what each cluster is spending on for the targeted marketing strategies.\n",
        "\n",
        "Let us next explore how did our campaigns do in the past."
      ],
      "metadata": {
        "id": "dUCIsN3wVC3V"
      }
    },
    {
      "cell_type": "code",
      "source": [
        "#Creating a feature to get a sum of accepted promotions \n",
        "data[\"Total_Promos\"] = data[\"AcceptedCmp1\"]+ data[\"AcceptedCmp2\"]+ data[\"AcceptedCmp3\"]+ data[\"AcceptedCmp4\"]+ data[\"AcceptedCmp5\"]\n",
        "#Plotting count of total campaign accepted.\n",
        "plt.figure()\n",
        "pl = sns.countplot(x=data[\"Total_Promos\"],hue=data[\"Clusters\"], palette= pal)\n",
        "pl.set_title(\"Count Of Promotion Accepted\")\n",
        "pl.set_xlabel(\"Number Of Total Accepted Promotions\")\n",
        "plt.show()"
      ],
      "metadata": {
        "id": "QUHoIVGZVIAD"
      },
      "execution_count": null,
      "outputs": []
    },
    {
      "cell_type": "markdown",
      "source": [
        "There has not been an overwhelming response to the campaigns so far. Very few participants overall. Moreover, no one part take in all 5 of them. Perhaps better-targeted and well-planned campaigns are required to boost sales."
      ],
      "metadata": {
        "id": "nv5pp1nGVUa8"
      }
    },
    {
      "cell_type": "code",
      "source": [
        "#Plotting the number of deals purchased\n",
        "plt.figure()\n",
        "pl=sns.boxenplot(y=data[\"NumDealsPurchases\"],x=data[\"Clusters\"], palette= pal)\n",
        "pl.set_title(\"Number of Deals Purchased\")\n",
        "plt.show()"
      ],
      "metadata": {
        "id": "fZbucwuZVXOD"
      },
      "execution_count": null,
      "outputs": []
    },
    {
      "cell_type": "markdown",
      "source": [
        "Unlike campaigns, the deals offered did well. It has best outcome with cluster 0 and cluster 3. However, our star customers cluster 1 are not much into the deals. Nothing seems to attract cluster 2 overwhelmingly"
      ],
      "metadata": {
        "id": "5CIRWTI5VdSd"
      }
    },
    {
      "cell_type": "code",
      "source": [
        "#for more details on the purchasing style \n",
        "Places =[\"NumWebPurchases\", \"NumCatalogPurchases\", \"NumStorePurchases\",  \"NumWebVisitsMonth\"] \n",
        "\n",
        "for i in Places:\n",
        "    plt.figure()\n",
        "    sns.jointplot(x=data[i],y = data[\"Spent\"],hue=data[\"Clusters\"], palette= pal)\n",
        "    plt.show()"
      ],
      "metadata": {
        "id": "uicouckJWnVg"
      },
      "execution_count": null,
      "outputs": []
    },
    {
      "cell_type": "markdown",
      "source": [
        "# Profiling\n",
        "\n",
        "---\n",
        "Now that we have formed the clusters and looked at their purchasing habits. Let us see who all are there in these clusters. For that, we will be profiling the clusters formed and come to a conclusion about who is our star customer and who needs more attention from the retail store's marketing team.\n",
        "\n",
        "To decide that I will be plotting some of the features that are indicative of the customer's personal traits in light of the cluster they are in. On the basis of the outcomes, I will be arriving at the conclusions.\n"
      ],
      "metadata": {
        "id": "qVZJIvTXWtaI"
      }
    },
    {
      "cell_type": "code",
      "source": [
        "Personal = [ \"Kidhome\",\"Teenhome\",\"Customer_For\", \"Age\", \"Children\", \"Family_Size\", \"Is_Parent\", \"Education\",\"Living_With\"]\n",
        "\n",
        "for i in Personal:\n",
        "    plt.figure()\n",
        "    sns.jointplot(x=data[i], y=data[\"Spent\"], hue =data[\"Clusters\"], kind=\"kde\", palette=pal)\n",
        "    plt.show()"
      ],
      "metadata": {
        "id": "v2wMB6jRW7wk"
      },
      "execution_count": null,
      "outputs": []
    },
    {
      "cell_type": "markdown",
      "source": [
        "#About Clusters\n",
        "\n",
        "---\n",
        "\n",
        "\n",
        "**Cluster Number: 0**\n",
        "\n",
        "*   Are a definitely a parent\n",
        "*   At the max have 4 members in the family and at least 2\n",
        "*   Single parents are a subset of this group\n",
        "*   Most have a teenager at home\n",
        "*   Relatively Older\n",
        "\n",
        "**Cluster Number: 1**\n",
        "*   Are a definitely not a parent\n",
        "*   At the max are only 2 members in the family\n",
        "*   A slight majority of couples over single people\n",
        "*   Span all ages\n",
        "*   A high income group\n",
        "\n",
        "**Cluster Number: 2**\n",
        "*   The majority of these people are parents\n",
        "*   At the max are 3 members in the family\n",
        "*   They majority have one kid(and not teenagers, typically)\n",
        "*   Relatively Younger\n",
        "\n",
        "**Cluster Number: 3**\n",
        "*   They are definitely a parent\n",
        "*   At the max are 5 members in the family and at least 2\n",
        "*   Majority of them have a teenager at home\n",
        "*   Relatively Older\n",
        "*   A lower income group"
      ],
      "metadata": {
        "id": "sf_mVk1yXSUd"
      }
    },
    {
      "cell_type": "markdown",
      "source": [
        "# Conclusion\n",
        "\n",
        "---\n",
        "In this project, I performed unsupervised clustering. I did use dimensionality reduction followed by agglomerative clustering. I came up with 4 clusters and further used them in profiling customers in clusters according to their family structures and income/spending. This can be used in planning better marketing strategies.\n",
        "\n",
        "\n"
      ],
      "metadata": {
        "id": "_q9yEtYqZwn4"
      }
    },
    {
      "cell_type": "markdown",
      "source": [
        "# References\n",
        "\n",
        "---\n",
        "\n",
        "1. Optimove \n",
        "2. Datanovia\n",
        "3. Research Gate\n",
        "4. Towards Data Science"
      ],
      "metadata": {
        "id": "5gOyrdeeaCq6"
      }
    }
  ]
}